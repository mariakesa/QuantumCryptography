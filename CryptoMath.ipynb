{
 "cells": [
  {
   "cell_type": "code",
   "execution_count": 1,
   "metadata": {},
   "outputs": [],
   "source": [
    "import numpy as np"
   ]
  },
  {
   "cell_type": "markdown",
   "metadata": {},
   "source": [
    "# Compute Greatest Common Divisor"
   ]
  },
  {
   "cell_type": "code",
   "execution_count": 21,
   "metadata": {
    "scrolled": true
   },
   "outputs": [
    {
     "name": "stdout",
     "output_type": "stream",
     "text": [
      "100\n",
      "11\n",
      "1\n"
     ]
    }
   ],
   "source": [
    "def remainder(a,b):\n",
    "    return a%b\n",
    "\n",
    "def gcd(a,b):\n",
    "    r=remainder(a,b)\n",
    "    if r==0:\n",
    "        return b\n",
    "    return gcd(b,r)\n",
    "\n",
    "print(gcd(300,100))\n",
    "print(gcd(121,11))\n",
    "print(gcd(7,3))"
   ]
  },
  {
   "cell_type": "markdown",
   "metadata": {},
   "source": [
    "# Efficiently determining if a number is a divisor"
   ]
  },
  {
   "cell_type": "code",
   "execution_count": 50,
   "metadata": {
    "scrolled": true
   },
   "outputs": [
    {
     "name": "stdout",
     "output_type": "stream",
     "text": [
      "False\n",
      "True\n",
      "True\n"
     ]
    }
   ],
   "source": [
    "def divisible(a,d):\n",
    "    n_integers=len(str(a))\n",
    "    if d<=n_integers:\n",
    "        a=a%d\n",
    "        base=10%d\n",
    "        if a==0:\n",
    "            return True\n",
    "    n_integers=len(str(a))\n",
    "    partial_sum=0\n",
    "    for n in range(n_integers):\n",
    "        partial_sum+=(int(str(a)[n])*10)%d\n",
    "    if partial_sum==0:\n",
    "        return True\n",
    "    else:\n",
    "        return False\n",
    "        \n",
    "    \n",
    "div=divisible(30332,3)\n",
    "print(div)\n",
    "div=divisible(400044,4)\n",
    "print(div)\n",
    "div=divisible(25000055,5)\n",
    "print(div)"
   ]
  },
  {
   "cell_type": "markdown",
   "metadata": {},
   "source": [
    "# Caesar Cipher"
   ]
  },
  {
   "cell_type": "code",
   "execution_count": 58,
   "metadata": {
    "scrolled": true
   },
   "outputs": [
    {
     "name": "stdout",
     "output_type": "stream",
     "text": [
      "['a' 'b' 'c' 'd' 'e' 'f' 'g' 'h' 'i' 'j' 'k' 'l' 'm' 'n' 'o' 'p' 'q' 'r'\n",
      " 's' 't' 'u' 'v' 'w' 'x' 'y' 'z']\n",
      "['c' 'd' 'e' 'f' 'g' 'h' 'i' 'j' 'k' 'l' 'm' 'n' 'o' 'p' 'q' 'r' 's' 't'\n",
      " 'u' 'v' 'w' 'x' 'y' 'z' 'a' 'b']\n",
      "oggvogncvgt\n",
      "library\n"
     ]
    }
   ],
   "source": [
    "import string\n",
    "def caesar_cipher(shift,plain_text):\n",
    "    alphabet=np.array(list(string.ascii_lowercase))\n",
    "    print(alphabet)\n",
    "    shifted_alphabet=np.roll(alphabet,shift)\n",
    "    print(shifted_alphabet)\n",
    "    mapping={}\n",
    "    for letter in range(0,26):\n",
    "        mapping[alphabet[letter]]=shifted_alphabet[letter]\n",
    "    encrypted_text=''\n",
    "    for letter in plain_text:\n",
    "        encrypted_text+=mapping[letter]\n",
    "    return encrypted_text\n",
    "        \n",
    "\n",
    "encrypted_text=caesar_cipher(-28,'meetmelater')\n",
    "print(encrypted_text)\n",
    "\n",
    "def caesar_cipher_decrypt(shift,cipher_text):\n",
    "    alphabet=np.array(list(string.ascii_lowercase))\n",
    "    #print(alphabet)\n",
    "    shifted_alphabet=np.roll(alphabet,shift)\n",
    "    #print(shifted_alphabet)\n",
    "    mapping={}\n",
    "    for letter in range(0,26):\n",
    "        mapping[shifted_alphabet[letter]]=alphabet[letter]\n",
    "    plain_text=''\n",
    "    for letter in cipher_text:\n",
    "        plain_text+=mapping[letter]\n",
    "    return plain_text\n",
    "\n",
    "\n",
    "plain_text=caesar_cipher_decrypt(-5,'QNGWFWD'.lower())\n",
    "print(plain_text)"
   ]
  },
  {
   "cell_type": "code",
   "execution_count": 62,
   "metadata": {
    "scrolled": true
   },
   "outputs": [
    {
     "data": {
      "text/plain": [
       "2"
      ]
     },
     "execution_count": 62,
     "metadata": {},
     "output_type": "execute_result"
    }
   ],
   "source": [
    "26%3"
   ]
  },
  {
   "cell_type": "markdown",
   "metadata": {},
   "source": [
    "# Monoalphabetic cipher"
   ]
  },
  {
   "cell_type": "code",
   "execution_count": 64,
   "metadata": {},
   "outputs": [
    {
     "name": "stdout",
     "output_type": "stream",
     "text": [
      "success\n"
     ]
    }
   ],
   "source": [
    "def monoalphabetic_decrypt(permuted_alphabet,cipher_text):\n",
    "    alphabet=np.array(list(string.ascii_lowercase))\n",
    "    mapping={}\n",
    "    for letter in range(0,26):\n",
    "        mapping[permuted_alphabet[letter]]=alphabet[letter]\n",
    "    plaintext=''\n",
    "    for letter in cipher_text:\n",
    "        plaintext+=mapping[letter]\n",
    "    return plaintext\n",
    "\n",
    "plaintext=monoalphabetic_decrypt('DKVQFIBJWPESCXHTMYAUOLRGZN','AOVVFAA')\n",
    "print(plaintext)"
   ]
  }
 ],
 "metadata": {
  "kernelspec": {
   "display_name": "Python 3",
   "language": "python",
   "name": "python3"
  },
  "language_info": {
   "codemirror_mode": {
    "name": "ipython",
    "version": 3
   },
   "file_extension": ".py",
   "mimetype": "text/x-python",
   "name": "python",
   "nbconvert_exporter": "python",
   "pygments_lexer": "ipython3",
   "version": "3.7.7"
  }
 },
 "nbformat": 4,
 "nbformat_minor": 4
}

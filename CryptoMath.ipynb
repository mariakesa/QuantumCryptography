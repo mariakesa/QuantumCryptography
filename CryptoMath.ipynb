{
 "cells": [
  {
   "cell_type": "code",
   "execution_count": 1,
   "metadata": {},
   "outputs": [],
   "source": [
    "import numpy as np"
   ]
  },
  {
   "cell_type": "markdown",
   "metadata": {},
   "source": [
    "# Compute Greatest Common Divisor"
   ]
  },
  {
   "cell_type": "code",
   "execution_count": 21,
   "metadata": {
    "scrolled": true
   },
   "outputs": [
    {
     "name": "stdout",
     "output_type": "stream",
     "text": [
      "100\n",
      "11\n",
      "1\n"
     ]
    }
   ],
   "source": [
    "def remainder(a,b):\n",
    "    return a%b\n",
    "\n",
    "def gcd(a,b):\n",
    "    r=remainder(a,b)\n",
    "    if r==0:\n",
    "        return b\n",
    "    return gcd(b,r)\n",
    "\n",
    "print(gcd(300,100))\n",
    "print(gcd(121,11))\n",
    "print(gcd(7,3))"
   ]
  },
  {
   "cell_type": "markdown",
   "metadata": {},
   "source": [
    "# Efficiently determining if a number is a divisor"
   ]
  },
  {
   "cell_type": "code",
   "execution_count": 50,
   "metadata": {
    "scrolled": true
   },
   "outputs": [
    {
     "name": "stdout",
     "output_type": "stream",
     "text": [
      "False\n",
      "True\n",
      "True\n"
     ]
    }
   ],
   "source": [
    "def divisible(a,d):\n",
    "    n_integers=len(str(a))\n",
    "    if d<=n_integers:\n",
    "        a=a%d\n",
    "        base=10%d\n",
    "        if a==0:\n",
    "            return True\n",
    "    n_integers=len(str(a))\n",
    "    partial_sum=0\n",
    "    for n in range(n_integers):\n",
    "        partial_sum+=(int(str(a)[n])*10)%d\n",
    "    if partial_sum==0:\n",
    "        return True\n",
    "    else:\n",
    "        return False\n",
    "        \n",
    "    \n",
    "div=divisible(30332,3)\n",
    "print(div)\n",
    "div=divisible(400044,4)\n",
    "print(div)\n",
    "div=divisible(25000055,5)\n",
    "print(div)"
   ]
  },
  {
   "cell_type": "markdown",
   "metadata": {},
   "source": [
    "# Caesar Cipher"
   ]
  },
  {
   "cell_type": "code",
   "execution_count": 58,
   "metadata": {
    "scrolled": true
   },
   "outputs": [
    {
     "name": "stdout",
     "output_type": "stream",
     "text": [
      "['a' 'b' 'c' 'd' 'e' 'f' 'g' 'h' 'i' 'j' 'k' 'l' 'm' 'n' 'o' 'p' 'q' 'r'\n",
      " 's' 't' 'u' 'v' 'w' 'x' 'y' 'z']\n",
      "['c' 'd' 'e' 'f' 'g' 'h' 'i' 'j' 'k' 'l' 'm' 'n' 'o' 'p' 'q' 'r' 's' 't'\n",
      " 'u' 'v' 'w' 'x' 'y' 'z' 'a' 'b']\n",
      "oggvogncvgt\n",
      "library\n"
     ]
    }
   ],
   "source": [
    "import string\n",
    "def caesar_cipher(shift,plain_text):\n",
    "    alphabet=np.array(list(string.ascii_lowercase))\n",
    "    print(alphabet)\n",
    "    shifted_alphabet=np.roll(alphabet,shift)\n",
    "    print(shifted_alphabet)\n",
    "    mapping={}\n",
    "    for letter in range(0,26):\n",
    "        mapping[alphabet[letter]]=shifted_alphabet[letter]\n",
    "    encrypted_text=''\n",
    "    for letter in plain_text:\n",
    "        encrypted_text+=mapping[letter]\n",
    "    return encrypted_text\n",
    "        \n",
    "\n",
    "encrypted_text=caesar_cipher(-28,'meetmelater')\n",
    "print(encrypted_text)\n",
    "\n",
    "def caesar_cipher_decrypt(shift,cipher_text):\n",
    "    alphabet=np.array(list(string.ascii_lowercase))\n",
    "    #print(alphabet)\n",
    "    shifted_alphabet=np.roll(alphabet,shift)\n",
    "    #print(shifted_alphabet)\n",
    "    mapping={}\n",
    "    for letter in range(0,26):\n",
    "        mapping[shifted_alphabet[letter]]=alphabet[letter]\n",
    "    plain_text=''\n",
    "    for letter in cipher_text:\n",
    "        plain_text+=mapping[letter]\n",
    "    return plain_text\n",
    "\n",
    "\n",
    "plain_text=caesar_cipher_decrypt(-5,'QNGWFWD'.lower())\n",
    "print(plain_text)"
   ]
  },
  {
   "cell_type": "code",
   "execution_count": 62,
   "metadata": {
    "scrolled": true
   },
   "outputs": [
    {
     "data": {
      "text/plain": [
       "2"
      ]
     },
     "execution_count": 62,
     "metadata": {},
     "output_type": "execute_result"
    }
   ],
   "source": [
    "26%3"
   ]
  },
  {
   "cell_type": "markdown",
   "metadata": {},
   "source": [
    "# Monoalphabetic cipher"
   ]
  },
  {
   "cell_type": "code",
   "execution_count": 64,
   "metadata": {
    "scrolled": true
   },
   "outputs": [
    {
     "name": "stdout",
     "output_type": "stream",
     "text": [
      "success\n"
     ]
    }
   ],
   "source": [
    "def monoalphabetic_decrypt(permuted_alphabet,cipher_text):\n",
    "    alphabet=np.array(list(string.ascii_lowercase))\n",
    "    mapping={}\n",
    "    for letter in range(0,26):\n",
    "        mapping[permuted_alphabet[letter]]=alphabet[letter]\n",
    "    plaintext=''\n",
    "    for letter in cipher_text:\n",
    "        plaintext+=mapping[letter]\n",
    "    return plaintext\n",
    "\n",
    "plaintext=monoalphabetic_decrypt('DKVQFIBJWPESCXHTMYAUOLRGZN','AOVVFAA')\n",
    "print(plaintext)"
   ]
  },
  {
   "cell_type": "markdown",
   "metadata": {},
   "source": [
    "# Vigenere cipher"
   ]
  },
  {
   "cell_type": "code",
   "execution_count": 89,
   "metadata": {
    "scrolled": false
   },
   "outputs": [
    {
     "name": "stdout",
     "output_type": "stream",
     "text": [
      "{'a': 0, 'b': 1, 'c': 2, 'd': 3, 'e': 4, 'f': 5, 'g': 6, 'h': 7, 'i': 8, 'j': 9, 'k': 10, 'l': 11, 'm': 12, 'n': 13, 'o': 14, 'p': 15, 'q': 16, 'r': 17, 's': 18, 't': 19, 'u': 20, 'v': 21, 'w': 22, 'x': 23, 'y': 24, 'z': 25}\n",
      "lemonlem\n",
      "{0: 'a', 1: 'b', 2: 'c', 3: 'd', 4: 'e', 5: 'f', 6: 'g', 7: 'h', 8: 'i', 9: 'j', 10: 'k', 11: 'l', 12: 'm', 13: 'n', 14: 'o', 15: 'p', 16: 'q', 17: 'r', 18: 's', 19: 't', 20: 'u', 21: 'v', 22: 'w', 23: 'x', 24: 'y', 25: 'z'}\n",
      "d l 3 11\n",
      "t e 19 4\n",
      "x m 23 12\n",
      "s o 18 14\n",
      "a n 0 13\n",
      "o l 14 11\n",
      "m e 12 4\n",
      "p m 15 12\n",
      "SPLENDID\n",
      "a\n",
      "f\n",
      "x\n",
      "u\n",
      "l\n",
      "b\n",
      "AFXULB\n"
     ]
    }
   ],
   "source": [
    "import string\n",
    "\n",
    "def repeat_to_length(string_to_expand, length):\n",
    "    return (string_to_expand * (int(length/len(string_to_expand))+1))[:length]\n",
    "\n",
    "def convert_alphabet_to_numeric(alphabet):\n",
    "    numeric_mapping={}\n",
    "    rng=range(26)\n",
    "    for ind in range(len(alphabet)):\n",
    "        numeric_mapping[alphabet[ind]]=rng[ind]\n",
    "    return numeric_mapping\n",
    "\n",
    "def inverse_numeric_mapping(alphabet):\n",
    "    numeric_mapping={}\n",
    "    rng=range(26)\n",
    "    for ind in range(len(alphabet)):\n",
    "        numeric_mapping[rng[ind]]=alphabet[ind]\n",
    "    return numeric_mapping \n",
    "\n",
    "def vigenere_decrypt(key,cipher_text):\n",
    "    alphabet=list(string.ascii_lowercase)\n",
    "    map_orig_alphabet=convert_alphabet_to_numeric(alphabet)\n",
    "    print(map_orig_alphabet)\n",
    "    #map_key=convert_alphabet_to_numeric(key)\n",
    "    expanded_key=repeat_to_length(key,len(cipher_text))\n",
    "    inverse_numeric_mapping_=inverse_numeric_mapping(alphabet)\n",
    "    plain_text=''\n",
    "    print(expanded_key)\n",
    "    print(inverse_numeric_mapping_)\n",
    "    for ind in range(len(cipher_text)):\n",
    "        orig_numeric=map_orig_alphabet[cipher_text[ind]]\n",
    "        key_numeric=map_orig_alphabet[expanded_key[ind]]\n",
    "        print(cipher_text[ind],expanded_key[ind],orig_numeric,key_numeric)\n",
    "        decrypted_numeric=(orig_numeric-key_numeric)%26\n",
    "        decrypted_bletter=inverse_numeric_mapping_[decrypted_numeric]\n",
    "        plain_text+=decrypted_letter\n",
    "    return plain_text\n",
    "\n",
    "plain_text=vigenere_decrypt('LEMON'.lower(),'DTXSAOMP'.lower())\n",
    "print(plain_text.upper())\n",
    "\n",
    "def vigenere_encrypt(key,plain_text):\n",
    "    alphabet=list(string.ascii_lowercase)\n",
    "    map_orig_alphabet=convert_alphabet_to_numeric(alphabet)\n",
    "    #print(map_orig_alphabet)\n",
    "    #map_key=convert_alphabet_to_numeric(key)\n",
    "    expanded_key=repeat_to_length(key,len(plain_text))\n",
    "    inverse_numeric_mapping_=inverse_numeric_mapping(alphabet)\n",
    "    cipher_text=''\n",
    "    for ind in range(len(plain_text)):\n",
    "        pt_numeric=map_orig_alphabet[plain_text[ind]]\n",
    "        key_numeric=map_orig_alphabet[expanded_key[ind]]\n",
    "        encrypted_numeric=(pt_numeric+key_numeric)%26\n",
    "        encrypted_letter=inverse_numeric_mapping_[encrypted_numeric]\n",
    "        cipher_text+=encrypted_letter\n",
    "        print(encrypted_letter)\n",
    "    return cipher_text\n",
    "\n",
    "cipher_text=vigenere_encrypt('XO'.lower(),'DRAGON'.lower())\n",
    "print(cipher_text.upper())"
   ]
  },
  {
   "cell_type": "code",
   "execution_count": 91,
   "metadata": {},
   "outputs": [
    {
     "name": "stdout",
     "output_type": "stream",
     "text": [
      "{'a': 0, 'b': 1, 'c': 2, 'd': 3, 'e': 4, 'f': 5, 'g': 6, 'h': 7, 'i': 8, 'j': 9, 'k': 10, 'l': 11, 'm': 12, 'n': 13, 'o': 14, 'p': 15, 'q': 16, 'r': 17, 's': 18, 't': 19, 'u': 20, 'v': 21, 'w': 22, 'x': 23, 'y': 24, 'z': 25}\n",
      "xoxoxoxoxoxoxoxoxoxoxoxoxo\n",
      "{0: 'a', 1: 'b', 2: 'c', 3: 'd', 4: 'e', 5: 'f', 6: 'g', 7: 'h', 8: 'i', 9: 'j', 10: 'k', 11: 'l', 12: 'm', 13: 'n', 14: 'o', 15: 'p', 16: 'q', 17: 'r', 18: 's', 19: 't', 20: 'u', 21: 'v', 22: 'w', 23: 'x', 24: 'y', 25: 'z'}\n",
      "r x 17 23\n",
      "g o 6 14\n",
      "z x 25 23\n",
      "n o 13 14\n",
      "f x 5 23\n",
      "i o 8 14\n",
      "b x 1 23\n",
      "j o 9 14\n",
      "w x 22 23\n",
      "p o 15 14\n",
      "e x 4 23\n",
      "s o 18 14\n",
      "c x 2 23\n",
      "x o 23 14\n",
      "h x 7 23\n",
      "t o 19 14\n",
      "m x 12 23\n",
      "y o 24 14\n",
      "a x 0 23\n",
      "u o 20 14\n",
      "o x 14 23\n",
      "l o 11 14\n",
      "d x 3 23\n",
      "k o 10 14\n",
      "v x 21 23\n",
      "q o 16 14\n",
      "uscziuevzbhefjkfpkdgrxgwyc\n"
     ]
    }
   ],
   "source": [
    "st=vigenere_decrypt('XO'.lower(),'RGZNFIBJWPESCXHTMYAUOLDKVQ'.lower())\n",
    "print(st)"
   ]
  }
 ],
 "metadata": {
  "kernelspec": {
   "display_name": "Python 3",
   "language": "python",
   "name": "python3"
  },
  "language_info": {
   "codemirror_mode": {
    "name": "ipython",
    "version": 3
   },
   "file_extension": ".py",
   "mimetype": "text/x-python",
   "name": "python",
   "nbconvert_exporter": "python",
   "pygments_lexer": "ipython3",
   "version": "3.7.7"
  }
 },
 "nbformat": 4,
 "nbformat_minor": 4
}
